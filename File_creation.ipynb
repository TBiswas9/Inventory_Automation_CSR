{
 "cells": [
  {
   "cell_type": "code",
   "execution_count": null,
   "metadata": {},
   "outputs": [],
   "source": [
    "import pandas as pd\n",
    "#Aging = pd.read_excel(r'File path.xlsx', sheet_name='sheetName')\n",
    "Aging = pd.read_csv(r'G:\\My Drive\\1. My Account\\Palomar\\PHMG - BI reports\\Dec_Month_2024\\Daily_Aging_data\\Aging012725.CSV')\n",
    "Guarantor = pd.read_csv(r'C:\\Users\\tinku.biswas\\Downloads\\Gurantor.CSV')\n",
    "Guarantor = Guarantor[['Per Nbr','Acct Nbr']]\n",
    "Guarantor = Guarantor.copy()\n",
    "Guarantor.drop_duplicates(inplace=True)\n",
    "Aging = Aging[['Name','Per Nbr','Birth Dt','Pat Amt']]\n",
    "Aging['Pat Amt'] = '$'+Aging['Pat Amt'].astype(str)\n",
    "Aging['Pat Amt'] = Aging.loc[:,'Pat Amt'].str.replace(\n",
    "    '$', \"\", regex=False)\\\n",
    "        .str.replace('(', \"-\", regex=False)\\\n",
    "            .str.replace(')', \"\", regex=False)\\\n",
    "                .str.replace(',', \"\", regex=False)\\\n",
    "                    .str.replace(\" \",\"\", regex=False)\n",
    "Aging['Pat Amt'] = Aging['Pat Amt'].astype(float)\n",
    "Pat_AR = Aging[Aging['Pat Amt']>0]\n",
    "Pat_AR = Pat_AR.groupby(by=['Name','Per Nbr','Birth Dt'])['Pat Amt'].sum().reset_index()\n",
    "Pat_AR = Pat_AR.merge(Guarantor[['Per Nbr','Acct Nbr']], how='left', on ='Per Nbr')\n",
    "CSR = Pat_AR.groupby(by = ['Name','Birth Dt','Acct Nbr'])['Pat Amt'].sum().reset_index(name = 'Bal_Amt')\n",
    "CSR[['Last_Name', 'First_Name']] = CSR['Name'].str.split(\",\",n=1,expand=True,)\n",
    "CSR = CSR.drop(CSR[CSR['Name'].str.startswith(\"**\")].index, axis=0)\n",
    "CSR = CSR.drop(CSR[CSR['Name'].str.startswith(\"ZZZ\")].index, axis=0)\n",
    "CSR['Facility code']  = 'PHMG'\n",
    "CSR = CSR[['Pat Last_Name', 'Pat First_Name', 'Acct Nbr','Birth Dt','Bal_Amt', 'Facility code']]\n"
   ]
  },
  {
   "cell_type": "code",
   "execution_count": 64,
   "metadata": {},
   "outputs": [],
   "source": [
    "#CSR.to_excel(r'C:\\Users\\tinku.biswas\\Downloads\\CSR.xlsx')"
   ]
  }
 ],
 "metadata": {
  "kernelspec": {
   "display_name": "base",
   "language": "python",
   "name": "python3"
  },
  "language_info": {
   "codemirror_mode": {
    "name": "ipython",
    "version": 3
   },
   "file_extension": ".py",
   "mimetype": "text/x-python",
   "name": "python",
   "nbconvert_exporter": "python",
   "pygments_lexer": "ipython3",
   "version": "3.12.7"
  }
 },
 "nbformat": 4,
 "nbformat_minor": 2
}
